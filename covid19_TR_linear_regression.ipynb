{
 "cells": [
  {
   "cell_type": "markdown",
   "metadata": {},
   "source": [
    "# Covid-19 Turkey "
   ]
  },
  {
   "cell_type": "markdown",
   "metadata": {},
   "source": [
    "### Regression for Exponential Growth - Applied to the Corona Virus"
   ]
  },
  {
   "cell_type": "code",
   "execution_count": 1,
   "metadata": {},
   "outputs": [],
   "source": [
    "%matplotlib inline\n",
    "import pandas as pd\n",
    "import sklearn\n",
    "import matplotlib.pyplot as plt\n",
    "import seaborn as sns\n",
    "\n",
    "# Setup Seaborn\n",
    "#sns.set_style(\"whitegrid\")\n",
    "sns.set_context(\"poster\")"
   ]
  },
  {
   "cell_type": "code",
   "execution_count": 2,
   "metadata": {},
   "outputs": [],
   "source": [
    "#pip install datapackage"
   ]
  },
  {
   "cell_type": "code",
   "execution_count": 3,
   "metadata": {},
   "outputs": [],
   "source": [
    "from datapackage import Package\n",
    "\n",
    "package = Package('https://datahub.io/core/covid-19/datapackage.json')"
   ]
  },
  {
   "cell_type": "code",
   "execution_count": 4,
   "metadata": {},
   "outputs": [
    {
     "name": "stdout",
     "output_type": "stream",
     "text": [
      "['validation_report', 'time-series-19-covid-combined_csv', 'key-countries-pivoted_csv', 'countries-aggregated_csv', 'worldwide-aggregated_csv', 'time-series-19-covid-combined_json', 'key-countries-pivoted_json', 'countries-aggregated_json', 'worldwide-aggregated_json', 'covid-19_zip', 'time-series-19-covid-combined_csv_preview', 'countries-aggregated_csv_preview', 'time-series-19-covid-combined', 'key-countries-pivoted', 'countries-aggregated', 'worldwide-aggregated']\n"
     ]
    }
   ],
   "source": [
    "# print list of all resources:\n",
    "print(package.resource_names)"
   ]
  },
  {
   "cell_type": "code",
   "execution_count": 5,
   "metadata": {},
   "outputs": [
    {
     "data": {
      "text/plain": [
       "['Date', 'Country', 'Confirmed', 'Recovered', 'Deaths']"
      ]
     },
     "execution_count": 5,
     "metadata": {},
     "output_type": "execute_result"
    }
   ],
   "source": [
    "countries_aggregated_csv = package.get_resource('countries-aggregated_csv').read(keyed=True)\n",
    "package.get_resource('countries-aggregated_csv').headers"
   ]
  },
  {
   "cell_type": "code",
   "execution_count": 6,
   "metadata": {},
   "outputs": [
    {
     "name": "stdout",
     "output_type": "stream",
     "text": [
      "<class 'list'>\n"
     ]
    }
   ],
   "source": [
    "print(type(countries_aggregated_csv))"
   ]
  },
  {
   "cell_type": "code",
   "execution_count": 7,
   "metadata": {},
   "outputs": [
    {
     "data": {
      "text/plain": [
       "{'Date': datetime.date(2020, 1, 22),\n",
       " 'Country': 'Afghanistan',\n",
       " 'Confirmed': 0,\n",
       " 'Recovered': 0,\n",
       " 'Deaths': 0}"
      ]
     },
     "execution_count": 7,
     "metadata": {},
     "output_type": "execute_result"
    }
   ],
   "source": [
    "countries_aggregated_csv[0]"
   ]
  },
  {
   "cell_type": "code",
   "execution_count": 8,
   "metadata": {},
   "outputs": [
    {
     "data": {
      "text/html": [
       "<div>\n",
       "<style scoped>\n",
       "    .dataframe tbody tr th:only-of-type {\n",
       "        vertical-align: middle;\n",
       "    }\n",
       "\n",
       "    .dataframe tbody tr th {\n",
       "        vertical-align: top;\n",
       "    }\n",
       "\n",
       "    .dataframe thead th {\n",
       "        text-align: right;\n",
       "    }\n",
       "</style>\n",
       "<table border=\"1\" class=\"dataframe\">\n",
       "  <thead>\n",
       "    <tr style=\"text-align: right;\">\n",
       "      <th></th>\n",
       "      <th>Confirmed</th>\n",
       "      <th>Country</th>\n",
       "      <th>Date</th>\n",
       "      <th>Deaths</th>\n",
       "      <th>Recovered</th>\n",
       "    </tr>\n",
       "  </thead>\n",
       "  <tbody>\n",
       "    <tr>\n",
       "      <th>0</th>\n",
       "      <td>0</td>\n",
       "      <td>Afghanistan</td>\n",
       "      <td>2020-01-22</td>\n",
       "      <td>0</td>\n",
       "      <td>0</td>\n",
       "    </tr>\n",
       "    <tr>\n",
       "      <th>1</th>\n",
       "      <td>0</td>\n",
       "      <td>Albania</td>\n",
       "      <td>2020-01-22</td>\n",
       "      <td>0</td>\n",
       "      <td>0</td>\n",
       "    </tr>\n",
       "    <tr>\n",
       "      <th>2</th>\n",
       "      <td>0</td>\n",
       "      <td>Algeria</td>\n",
       "      <td>2020-01-22</td>\n",
       "      <td>0</td>\n",
       "      <td>0</td>\n",
       "    </tr>\n",
       "    <tr>\n",
       "      <th>3</th>\n",
       "      <td>0</td>\n",
       "      <td>Andorra</td>\n",
       "      <td>2020-01-22</td>\n",
       "      <td>0</td>\n",
       "      <td>0</td>\n",
       "    </tr>\n",
       "    <tr>\n",
       "      <th>4</th>\n",
       "      <td>0</td>\n",
       "      <td>Angola</td>\n",
       "      <td>2020-01-22</td>\n",
       "      <td>0</td>\n",
       "      <td>0</td>\n",
       "    </tr>\n",
       "  </tbody>\n",
       "</table>\n",
       "</div>"
      ],
      "text/plain": [
       "   Confirmed      Country        Date  Deaths  Recovered\n",
       "0          0  Afghanistan  2020-01-22       0          0\n",
       "1          0      Albania  2020-01-22       0          0\n",
       "2          0      Algeria  2020-01-22       0          0\n",
       "3          0      Andorra  2020-01-22       0          0\n",
       "4          0       Angola  2020-01-22       0          0"
      ]
     },
     "execution_count": 8,
     "metadata": {},
     "output_type": "execute_result"
    }
   ],
   "source": [
    "import pandas as pd\n",
    "\n",
    "# Creating a dataframe object from listoftuples\n",
    "worldwide_aggregated_df = pd.DataFrame(countries_aggregated_csv)\n",
    "\n",
    "worldwide_aggregated_df.head()"
   ]
  },
  {
   "cell_type": "code",
   "execution_count": 9,
   "metadata": {},
   "outputs": [
    {
     "data": {
      "text/html": [
       "<div>\n",
       "<style scoped>\n",
       "    .dataframe tbody tr th:only-of-type {\n",
       "        vertical-align: middle;\n",
       "    }\n",
       "\n",
       "    .dataframe tbody tr th {\n",
       "        vertical-align: top;\n",
       "    }\n",
       "\n",
       "    .dataframe thead th {\n",
       "        text-align: right;\n",
       "    }\n",
       "</style>\n",
       "<table border=\"1\" class=\"dataframe\">\n",
       "  <thead>\n",
       "    <tr style=\"text-align: right;\">\n",
       "      <th></th>\n",
       "      <th>Confirmed</th>\n",
       "      <th>Country</th>\n",
       "      <th>Date</th>\n",
       "      <th>Deaths</th>\n",
       "      <th>Recovered</th>\n",
       "    </tr>\n",
       "  </thead>\n",
       "  <tbody>\n",
       "    <tr>\n",
       "      <th>13208</th>\n",
       "      <td>153</td>\n",
       "      <td>Venezuela</td>\n",
       "      <td>2020-04-03</td>\n",
       "      <td>7</td>\n",
       "      <td>52</td>\n",
       "    </tr>\n",
       "    <tr>\n",
       "      <th>13209</th>\n",
       "      <td>237</td>\n",
       "      <td>Vietnam</td>\n",
       "      <td>2020-04-03</td>\n",
       "      <td>0</td>\n",
       "      <td>85</td>\n",
       "    </tr>\n",
       "    <tr>\n",
       "      <th>13210</th>\n",
       "      <td>194</td>\n",
       "      <td>West Bank and Gaza</td>\n",
       "      <td>2020-04-03</td>\n",
       "      <td>1</td>\n",
       "      <td>21</td>\n",
       "    </tr>\n",
       "    <tr>\n",
       "      <th>13211</th>\n",
       "      <td>39</td>\n",
       "      <td>Zambia</td>\n",
       "      <td>2020-04-03</td>\n",
       "      <td>1</td>\n",
       "      <td>2</td>\n",
       "    </tr>\n",
       "    <tr>\n",
       "      <th>13212</th>\n",
       "      <td>9</td>\n",
       "      <td>Zimbabwe</td>\n",
       "      <td>2020-04-03</td>\n",
       "      <td>1</td>\n",
       "      <td>0</td>\n",
       "    </tr>\n",
       "  </tbody>\n",
       "</table>\n",
       "</div>"
      ],
      "text/plain": [
       "       Confirmed             Country        Date  Deaths  Recovered\n",
       "13208        153           Venezuela  2020-04-03       7         52\n",
       "13209        237             Vietnam  2020-04-03       0         85\n",
       "13210        194  West Bank and Gaza  2020-04-03       1         21\n",
       "13211         39              Zambia  2020-04-03       1          2\n",
       "13212          9            Zimbabwe  2020-04-03       1          0"
      ]
     },
     "execution_count": 9,
     "metadata": {},
     "output_type": "execute_result"
    }
   ],
   "source": [
    "worldwide_aggregated_df.tail()"
   ]
  },
  {
   "cell_type": "code",
   "execution_count": 10,
   "metadata": {},
   "outputs": [
    {
     "name": "stdout",
     "output_type": "stream",
     "text": [
      "<class 'pandas.core.frame.DataFrame'>\n",
      "RangeIndex: 13213 entries, 0 to 13212\n",
      "Data columns (total 5 columns):\n",
      "Confirmed    13213 non-null int64\n",
      "Country      13213 non-null object\n",
      "Date         13213 non-null object\n",
      "Deaths       13213 non-null int64\n",
      "Recovered    13213 non-null int64\n",
      "dtypes: int64(3), object(2)\n",
      "memory usage: 516.2+ KB\n"
     ]
    }
   ],
   "source": [
    "worldwide_aggregated_df.info()"
   ]
  },
  {
   "cell_type": "markdown",
   "metadata": {},
   "source": [
    "# Turkey"
   ]
  },
  {
   "cell_type": "code",
   "execution_count": 11,
   "metadata": {},
   "outputs": [],
   "source": [
    "turkey_df = worldwide_aggregated_df[ worldwide_aggregated_df['Country'] == 'Turkey' ]"
   ]
  },
  {
   "cell_type": "code",
   "execution_count": 12,
   "metadata": {},
   "outputs": [
    {
     "data": {
      "text/html": [
       "<div>\n",
       "<style scoped>\n",
       "    .dataframe tbody tr th:only-of-type {\n",
       "        vertical-align: middle;\n",
       "    }\n",
       "\n",
       "    .dataframe tbody tr th {\n",
       "        vertical-align: top;\n",
       "    }\n",
       "\n",
       "    .dataframe thead th {\n",
       "        text-align: right;\n",
       "    }\n",
       "</style>\n",
       "<table border=\"1\" class=\"dataframe\">\n",
       "  <thead>\n",
       "    <tr style=\"text-align: right;\">\n",
       "      <th></th>\n",
       "      <th>Confirmed</th>\n",
       "      <th>Country</th>\n",
       "      <th>Date</th>\n",
       "      <th>Deaths</th>\n",
       "      <th>Recovered</th>\n",
       "    </tr>\n",
       "  </thead>\n",
       "  <tbody>\n",
       "    <tr>\n",
       "      <th>12476</th>\n",
       "      <td>10827</td>\n",
       "      <td>Turkey</td>\n",
       "      <td>2020-03-30</td>\n",
       "      <td>168</td>\n",
       "      <td>162</td>\n",
       "    </tr>\n",
       "    <tr>\n",
       "      <th>12657</th>\n",
       "      <td>13531</td>\n",
       "      <td>Turkey</td>\n",
       "      <td>2020-03-31</td>\n",
       "      <td>214</td>\n",
       "      <td>243</td>\n",
       "    </tr>\n",
       "    <tr>\n",
       "      <th>12838</th>\n",
       "      <td>15679</td>\n",
       "      <td>Turkey</td>\n",
       "      <td>2020-04-01</td>\n",
       "      <td>277</td>\n",
       "      <td>333</td>\n",
       "    </tr>\n",
       "    <tr>\n",
       "      <th>13019</th>\n",
       "      <td>18135</td>\n",
       "      <td>Turkey</td>\n",
       "      <td>2020-04-02</td>\n",
       "      <td>356</td>\n",
       "      <td>415</td>\n",
       "    </tr>\n",
       "    <tr>\n",
       "      <th>13200</th>\n",
       "      <td>20921</td>\n",
       "      <td>Turkey</td>\n",
       "      <td>2020-04-03</td>\n",
       "      <td>425</td>\n",
       "      <td>484</td>\n",
       "    </tr>\n",
       "  </tbody>\n",
       "</table>\n",
       "</div>"
      ],
      "text/plain": [
       "       Confirmed Country        Date  Deaths  Recovered\n",
       "12476      10827  Turkey  2020-03-30     168        162\n",
       "12657      13531  Turkey  2020-03-31     214        243\n",
       "12838      15679  Turkey  2020-04-01     277        333\n",
       "13019      18135  Turkey  2020-04-02     356        415\n",
       "13200      20921  Turkey  2020-04-03     425        484"
      ]
     },
     "execution_count": 12,
     "metadata": {},
     "output_type": "execute_result"
    }
   ],
   "source": [
    "turkey_df.tail()"
   ]
  },
  {
   "cell_type": "code",
   "execution_count": 13,
   "metadata": {},
   "outputs": [
    {
     "name": "stdout",
     "output_type": "stream",
     "text": [
      "<class 'list'>\n",
      "<class 'list'>\n",
      "['Confirmed'] ['Date', 'Deaths', 'Recovered']\n",
      "['Confirmed', 'Date', 'Deaths', 'Recovered']\n"
     ]
    },
    {
     "data": {
      "text/html": [
       "<div>\n",
       "<style scoped>\n",
       "    .dataframe tbody tr th:only-of-type {\n",
       "        vertical-align: middle;\n",
       "    }\n",
       "\n",
       "    .dataframe tbody tr th {\n",
       "        vertical-align: top;\n",
       "    }\n",
       "\n",
       "    .dataframe thead th {\n",
       "        text-align: right;\n",
       "    }\n",
       "</style>\n",
       "<table border=\"1\" class=\"dataframe\">\n",
       "  <thead>\n",
       "    <tr style=\"text-align: right;\">\n",
       "      <th></th>\n",
       "      <th>Confirmed</th>\n",
       "      <th>Date</th>\n",
       "      <th>Deaths</th>\n",
       "      <th>Recovered</th>\n",
       "    </tr>\n",
       "  </thead>\n",
       "  <tbody>\n",
       "    <tr>\n",
       "      <th>12476</th>\n",
       "      <td>10827</td>\n",
       "      <td>2020-03-30</td>\n",
       "      <td>168</td>\n",
       "      <td>162</td>\n",
       "    </tr>\n",
       "    <tr>\n",
       "      <th>12657</th>\n",
       "      <td>13531</td>\n",
       "      <td>2020-03-31</td>\n",
       "      <td>214</td>\n",
       "      <td>243</td>\n",
       "    </tr>\n",
       "    <tr>\n",
       "      <th>12838</th>\n",
       "      <td>15679</td>\n",
       "      <td>2020-04-01</td>\n",
       "      <td>277</td>\n",
       "      <td>333</td>\n",
       "    </tr>\n",
       "    <tr>\n",
       "      <th>13019</th>\n",
       "      <td>18135</td>\n",
       "      <td>2020-04-02</td>\n",
       "      <td>356</td>\n",
       "      <td>415</td>\n",
       "    </tr>\n",
       "    <tr>\n",
       "      <th>13200</th>\n",
       "      <td>20921</td>\n",
       "      <td>2020-04-03</td>\n",
       "      <td>425</td>\n",
       "      <td>484</td>\n",
       "    </tr>\n",
       "  </tbody>\n",
       "</table>\n",
       "</div>"
      ],
      "text/plain": [
       "       Confirmed        Date  Deaths  Recovered\n",
       "12476      10827  2020-03-30     168        162\n",
       "12657      13531  2020-03-31     214        243\n",
       "12838      15679  2020-04-01     277        333\n",
       "13019      18135  2020-04-02     356        415\n",
       "13200      20921  2020-04-03     425        484"
      ]
     },
     "execution_count": 13,
     "metadata": {},
     "output_type": "execute_result"
    }
   ],
   "source": [
    "# Reorder columns\n",
    "\n",
    "columns = turkey_df.columns.tolist()\n",
    "print(type(columns[0:]))\n",
    "print(type(columns[2:]))\n",
    "print(columns[0:1],columns[2:])\n",
    "new_columns = columns[0:1] + columns[2:] \n",
    "print(new_columns)\n",
    "\n",
    "turkey_df_new = turkey_df[new_columns]\n",
    "turkey_df_new.tail()"
   ]
  },
  {
   "cell_type": "code",
   "execution_count": 14,
   "metadata": {},
   "outputs": [
    {
     "data": {
      "text/html": [
       "<div>\n",
       "<style scoped>\n",
       "    .dataframe tbody tr th:only-of-type {\n",
       "        vertical-align: middle;\n",
       "    }\n",
       "\n",
       "    .dataframe tbody tr th {\n",
       "        vertical-align: top;\n",
       "    }\n",
       "\n",
       "    .dataframe thead th {\n",
       "        text-align: right;\n",
       "    }\n",
       "</style>\n",
       "<table border=\"1\" class=\"dataframe\">\n",
       "  <thead>\n",
       "    <tr style=\"text-align: right;\">\n",
       "      <th></th>\n",
       "      <th>Confirmed</th>\n",
       "      <th>Date</th>\n",
       "      <th>Deaths</th>\n",
       "      <th>Recovered</th>\n",
       "    </tr>\n",
       "  </thead>\n",
       "  <tbody>\n",
       "    <tr>\n",
       "      <th>9037</th>\n",
       "      <td>1</td>\n",
       "      <td>2020-03-11</td>\n",
       "      <td>0</td>\n",
       "      <td>0</td>\n",
       "    </tr>\n",
       "    <tr>\n",
       "      <th>9218</th>\n",
       "      <td>1</td>\n",
       "      <td>2020-03-12</td>\n",
       "      <td>0</td>\n",
       "      <td>0</td>\n",
       "    </tr>\n",
       "    <tr>\n",
       "      <th>9399</th>\n",
       "      <td>5</td>\n",
       "      <td>2020-03-13</td>\n",
       "      <td>0</td>\n",
       "      <td>0</td>\n",
       "    </tr>\n",
       "    <tr>\n",
       "      <th>9580</th>\n",
       "      <td>5</td>\n",
       "      <td>2020-03-14</td>\n",
       "      <td>0</td>\n",
       "      <td>0</td>\n",
       "    </tr>\n",
       "    <tr>\n",
       "      <th>9761</th>\n",
       "      <td>6</td>\n",
       "      <td>2020-03-15</td>\n",
       "      <td>0</td>\n",
       "      <td>0</td>\n",
       "    </tr>\n",
       "  </tbody>\n",
       "</table>\n",
       "</div>"
      ],
      "text/plain": [
       "      Confirmed        Date  Deaths  Recovered\n",
       "9037          1  2020-03-11       0          0\n",
       "9218          1  2020-03-12       0          0\n",
       "9399          5  2020-03-13       0          0\n",
       "9580          5  2020-03-14       0          0\n",
       "9761          6  2020-03-15       0          0"
      ]
     },
     "execution_count": 14,
     "metadata": {},
     "output_type": "execute_result"
    }
   ],
   "source": [
    "### Confirmed Cases bigger than 0\n",
    "\n",
    "turkey_df_new_starting = turkey_df_new [turkey_df_new['Confirmed'] > 0]\n",
    "turkey_df_new_starting.head()"
   ]
  },
  {
   "cell_type": "markdown",
   "metadata": {},
   "source": [
    "### Plotting"
   ]
  },
  {
   "cell_type": "code",
   "execution_count": 15,
   "metadata": {},
   "outputs": [],
   "source": [
    "import matplotlib.pyplot as plt\n",
    "from pylab import rcParams"
   ]
  },
  {
   "cell_type": "code",
   "execution_count": 36,
   "metadata": {},
   "outputs": [
    {
     "data": {
      "text/plain": [
       "[]"
      ]
     },
     "execution_count": 36,
     "metadata": {},
     "output_type": "execute_result"
    },
    {
     "data": {
      "image/png": "[encoded data removed]",
      "text/plain": [
       "<Figure size 1800x720 with 1 Axes>"
      ]
     },
     "metadata": {
      "needs_background": "light"
     },
     "output_type": "display_data"
    }
   ],
   "source": [
    "# Plot\n",
    "\n",
    "plt.plot(turkey_df_new_starting.Date, turkey_df_new_starting.Confirmed, '-o')\n",
    "rcParams['figure.figsize'] = 50, 10\n",
    "plt.title('Günlük Vaka Sayısı')\n",
    "plt.ylabel('Vaka Sayısı')\n",
    "plt.yscale('log')\n",
    "plt.xlabel('Günler')\n",
    "\n",
    "positions = turkey_df_new_starting['Date']\n",
    "labels = turkey_df_new_starting['Date']\n",
    "plt.xticks(positions, labels,rotation=90)\n",
    "\n",
    "plt.yticks((0,1,10,100,1000,10000,100000), (0,1,10,100,1000,10000,100000))\n",
    "\n",
    "plt.plot()\n"
   ]
  },
  {
   "cell_type": "code",
   "execution_count": 17,
   "metadata": {},
   "outputs": [
    {
     "name": "stdout",
     "output_type": "stream",
     "text": [
      "<class 'pandas.core.series.Series'>\n"
     ]
    }
   ],
   "source": [
    "print(type(turkey_df_new_starting.Date))"
   ]
  },
  {
   "cell_type": "code",
   "execution_count": 18,
   "metadata": {},
   "outputs": [
    {
     "data": {
      "image/png": "[encoded data removed]",
      "text/plain": [
       "<Figure size 3600x720 with 1 Axes>"
      ]
     },
     "metadata": {
      "needs_background": "light"
     },
     "output_type": "display_data"
    }
   ],
   "source": [
    "labels = turkey_df_new_starting['Date']\n",
    "\n",
    "width = 0.35 \n",
    "\n",
    "fig, ax = plt.subplots()\n",
    "ax.bar(labels, turkey_df_new_starting['Confirmed'].tolist(), width, label = 'Vaka Sayısı')\n",
    "ax.bar(labels, turkey_df_new_starting['Deaths'].tolist(), width, bottom = turkey_df_new_starting['Confirmed'].tolist(), label='Olumler')\n",
    "plt.yscale('log')\n",
    "ax.set_ylabel('Vaka Sayısı')\n",
    "ax.set_title('Günlük Vaka Sayısı')\n",
    "ax.legend()\n",
    "\n",
    "plt.show()"
   ]
  },
  {
   "cell_type": "markdown",
   "metadata": {},
   "source": [
    "### Regression for Exponential Growth - Applied to the Corona Virus"
   ]
  },
  {
   "cell_type": "code",
   "execution_count": 19,
   "metadata": {},
   "outputs": [],
   "source": [
    "# My model is  confirmed = a * b ^ Time\n",
    "\n",
    "# y = a * b ^ t\n",
    "\n",
    "# log(y) = log(a) + Time * log(b) { [this is a linear relationship: y=a+bx] } \n",
    "\n",
    "# lets apply linear regression"
   ]
  },
  {
   "cell_type": "code",
   "execution_count": 20,
   "metadata": {},
   "outputs": [
    {
     "name": "stderr",
     "output_type": "stream",
     "text": [
      "/Users/Murat/anaconda3/lib/python3.7/site-packages/ipykernel_launcher.py:3: SettingWithCopyWarning: \n",
      "A value is trying to be set on a copy of a slice from a DataFrame.\n",
      "Try using .loc[row_indexer,col_indexer] = value instead\n",
      "\n",
      "See the caveats in the documentation: http://pandas.pydata.org/pandas-docs/stable/indexing.html#indexing-view-versus-copy\n",
      "  This is separate from the ipykernel package so we can avoid doing imports until\n"
     ]
    },
    {
     "data": {
      "text/html": [
       "<div>\n",
       "<style scoped>\n",
       "    .dataframe tbody tr th:only-of-type {\n",
       "        vertical-align: middle;\n",
       "    }\n",
       "\n",
       "    .dataframe tbody tr th {\n",
       "        vertical-align: top;\n",
       "    }\n",
       "\n",
       "    .dataframe thead th {\n",
       "        text-align: right;\n",
       "    }\n",
       "</style>\n",
       "<table border=\"1\" class=\"dataframe\">\n",
       "  <thead>\n",
       "    <tr style=\"text-align: right;\">\n",
       "      <th></th>\n",
       "      <th>Confirmed</th>\n",
       "      <th>Date</th>\n",
       "      <th>Deaths</th>\n",
       "      <th>Recovered</th>\n",
       "      <th>log_Confirmed</th>\n",
       "    </tr>\n",
       "  </thead>\n",
       "  <tbody>\n",
       "    <tr>\n",
       "      <th>9037</th>\n",
       "      <td>1</td>\n",
       "      <td>2020-03-11</td>\n",
       "      <td>0</td>\n",
       "      <td>0</td>\n",
       "      <td>0.000000</td>\n",
       "    </tr>\n",
       "    <tr>\n",
       "      <th>9218</th>\n",
       "      <td>1</td>\n",
       "      <td>2020-03-12</td>\n",
       "      <td>0</td>\n",
       "      <td>0</td>\n",
       "      <td>0.000000</td>\n",
       "    </tr>\n",
       "    <tr>\n",
       "      <th>9399</th>\n",
       "      <td>5</td>\n",
       "      <td>2020-03-13</td>\n",
       "      <td>0</td>\n",
       "      <td>0</td>\n",
       "      <td>1.609438</td>\n",
       "    </tr>\n",
       "    <tr>\n",
       "      <th>9580</th>\n",
       "      <td>5</td>\n",
       "      <td>2020-03-14</td>\n",
       "      <td>0</td>\n",
       "      <td>0</td>\n",
       "      <td>1.609438</td>\n",
       "    </tr>\n",
       "    <tr>\n",
       "      <th>9761</th>\n",
       "      <td>6</td>\n",
       "      <td>2020-03-15</td>\n",
       "      <td>0</td>\n",
       "      <td>0</td>\n",
       "      <td>1.791759</td>\n",
       "    </tr>\n",
       "  </tbody>\n",
       "</table>\n",
       "</div>"
      ],
      "text/plain": [
       "      Confirmed        Date  Deaths  Recovered  log_Confirmed\n",
       "9037          1  2020-03-11       0          0       0.000000\n",
       "9218          1  2020-03-12       0          0       0.000000\n",
       "9399          5  2020-03-13       0          0       1.609438\n",
       "9580          5  2020-03-14       0          0       1.609438\n",
       "9761          6  2020-03-15       0          0       1.791759"
      ]
     },
     "execution_count": 20,
     "metadata": {},
     "output_type": "execute_result"
    }
   ],
   "source": [
    "import numpy as np\n",
    "a = np.log(turkey_df_new_starting['Confirmed'])\n",
    "turkey_df_new_starting['log_Confirmed'] = a\n",
    "turkey_df_new_starting.head()"
   ]
  },
  {
   "cell_type": "code",
   "execution_count": 21,
   "metadata": {},
   "outputs": [],
   "source": [
    "df = turkey_df_new_starting"
   ]
  },
  {
   "cell_type": "code",
   "execution_count": 22,
   "metadata": {},
   "outputs": [],
   "source": [
    "df.reset_index(drop=True, inplace=True)"
   ]
  },
  {
   "cell_type": "code",
   "execution_count": 23,
   "metadata": {},
   "outputs": [
    {
     "data": {
      "text/html": [
       "<div>\n",
       "<style scoped>\n",
       "    .dataframe tbody tr th:only-of-type {\n",
       "        vertical-align: middle;\n",
       "    }\n",
       "\n",
       "    .dataframe tbody tr th {\n",
       "        vertical-align: top;\n",
       "    }\n",
       "\n",
       "    .dataframe thead th {\n",
       "        text-align: right;\n",
       "    }\n",
       "</style>\n",
       "<table border=\"1\" class=\"dataframe\">\n",
       "  <thead>\n",
       "    <tr style=\"text-align: right;\">\n",
       "      <th></th>\n",
       "      <th>Confirmed</th>\n",
       "      <th>Date</th>\n",
       "      <th>Deaths</th>\n",
       "      <th>Recovered</th>\n",
       "      <th>log_Confirmed</th>\n",
       "    </tr>\n",
       "  </thead>\n",
       "  <tbody>\n",
       "    <tr>\n",
       "      <th>19</th>\n",
       "      <td>10827</td>\n",
       "      <td>2020-03-30</td>\n",
       "      <td>168</td>\n",
       "      <td>162</td>\n",
       "      <td>9.289798</td>\n",
       "    </tr>\n",
       "    <tr>\n",
       "      <th>20</th>\n",
       "      <td>13531</td>\n",
       "      <td>2020-03-31</td>\n",
       "      <td>214</td>\n",
       "      <td>243</td>\n",
       "      <td>9.512739</td>\n",
       "    </tr>\n",
       "    <tr>\n",
       "      <th>21</th>\n",
       "      <td>15679</td>\n",
       "      <td>2020-04-01</td>\n",
       "      <td>277</td>\n",
       "      <td>333</td>\n",
       "      <td>9.660078</td>\n",
       "    </tr>\n",
       "    <tr>\n",
       "      <th>22</th>\n",
       "      <td>18135</td>\n",
       "      <td>2020-04-02</td>\n",
       "      <td>356</td>\n",
       "      <td>415</td>\n",
       "      <td>9.805599</td>\n",
       "    </tr>\n",
       "    <tr>\n",
       "      <th>23</th>\n",
       "      <td>20921</td>\n",
       "      <td>2020-04-03</td>\n",
       "      <td>425</td>\n",
       "      <td>484</td>\n",
       "      <td>9.948509</td>\n",
       "    </tr>\n",
       "  </tbody>\n",
       "</table>\n",
       "</div>"
      ],
      "text/plain": [
       "    Confirmed        Date  Deaths  Recovered  log_Confirmed\n",
       "19      10827  2020-03-30     168        162       9.289798\n",
       "20      13531  2020-03-31     214        243       9.512739\n",
       "21      15679  2020-04-01     277        333       9.660078\n",
       "22      18135  2020-04-02     356        415       9.805599\n",
       "23      20921  2020-04-03     425        484       9.948509"
      ]
     },
     "execution_count": 23,
     "metadata": {},
     "output_type": "execute_result"
    }
   ],
   "source": [
    "df.tail()"
   ]
  },
  {
   "cell_type": "code",
   "execution_count": 24,
   "metadata": {},
   "outputs": [],
   "source": [
    "# Import regression modules\n",
    "\n",
    "import statsmodels.api as sm\n",
    "from statsmodels.formula.api import ols\n",
    "import statsmodels.formula.api as smf"
   ]
  },
  {
   "cell_type": "code",
   "execution_count": 25,
   "metadata": {},
   "outputs": [
    {
     "name": "stdout",
     "output_type": "stream",
     "text": [
      "<class 'numpy.ndarray'>\n"
     ]
    }
   ],
   "source": [
    "X_values= df.index.values\n",
    "X = sm.add_constant(X_values)\n",
    "print(type(X))"
   ]
  },
  {
   "cell_type": "code",
   "execution_count": 26,
   "metadata": {},
   "outputs": [],
   "source": [
    "# statsmodels works nicely with pandas dataframes\n",
    "\n",
    "y = df['log_Confirmed']"
   ]
  },
  {
   "cell_type": "code",
   "execution_count": 27,
   "metadata": {},
   "outputs": [
    {
     "name": "stdout",
     "output_type": "stream",
     "text": [
      "                            OLS Regression Results                            \n",
      "==============================================================================\n",
      "Dep. Variable:          log_Confirmed   R-squared:                       0.941\n",
      "Model:                            OLS   Adj. R-squared:                  0.939\n",
      "Method:                 Least Squares   F-statistic:                     353.6\n",
      "Date:                Sat, 04 Apr 2020   Prob (F-statistic):           4.81e-15\n",
      "Time:                        10:07:57   Log-Likelihood:                -28.143\n",
      "No. Observations:                  24   AIC:                             60.29\n",
      "Df Residuals:                      22   BIC:                             62.64\n",
      "Df Model:                           1                                         \n",
      "Covariance Type:            nonrobust                                         \n",
      "==============================================================================\n",
      "                 coef    std err          t      P>|t|      [0.025      0.975]\n",
      "------------------------------------------------------------------------------\n",
      "const          0.9131      0.323      2.826      0.010       0.243       1.583\n",
      "x1             0.4527      0.024     18.805      0.000       0.403       0.503\n",
      "==============================================================================\n",
      "Omnibus:                        3.704   Durbin-Watson:                   0.230\n",
      "Prob(Omnibus):                  0.157   Jarque-Bera (JB):                1.595\n",
      "Skew:                          -0.239   Prob(JB):                        0.450\n",
      "Kurtosis:                       1.831   Cond. No.                         26.1\n",
      "==============================================================================\n",
      "\n",
      "Warnings:\n",
      "[1] Standard Errors assume that the covariance matrix of the errors is correctly specified.\n"
     ]
    }
   ],
   "source": [
    "mod  = sm.OLS(y,X)\n",
    "res = mod.fit()\n",
    "print(res.summary())"
   ]
  },
  {
   "cell_type": "code",
   "execution_count": 28,
   "metadata": {},
   "outputs": [
    {
     "name": "stdout",
     "output_type": "stream",
     "text": [
      "const    0.913087\n",
      "x1       0.452730\n",
      "dtype: float64\n"
     ]
    }
   ],
   "source": [
    "print(res.params)"
   ]
  },
  {
   "cell_type": "code",
   "execution_count": 29,
   "metadata": {},
   "outputs": [
    {
     "name": "stdout",
     "output_type": "stream",
     "text": [
      "const:  0.9130867739075875\n",
      "constant:  2.4920029230738074\n"
     ]
    }
   ],
   "source": [
    "print('const: ', res.params[0])\n",
    "\n",
    "print('constant: ', np.exp(res.params[0]))"
   ]
  },
  {
   "cell_type": "code",
   "execution_count": 30,
   "metadata": {},
   "outputs": [
    {
     "name": "stdout",
     "output_type": "stream",
     "text": [
      "x1:  0.4527297043561816\n",
      "Grow rate:  1.5725990623861275\n"
     ]
    }
   ],
   "source": [
    "print('x1: ', res.params[1])\n",
    "\n",
    "print('Grow rate: ', np.exp(res.params[1]))"
   ]
  },
  {
   "cell_type": "code",
   "execution_count": 31,
   "metadata": {},
   "outputs": [],
   "source": [
    "# actual function: confirmed_predicted = np.exp(const) * np.exp(Time) ** t"
   ]
  },
  {
   "cell_type": "code",
   "execution_count": 32,
   "metadata": {},
   "outputs": [],
   "source": [
    "def linear_predictions(t):\n",
    "    return np.exp(res.params[0]) * np.exp(res.params[1]) ** t"
   ]
  },
  {
   "cell_type": "code",
   "execution_count": 33,
   "metadata": {},
   "outputs": [
    {
     "name": "stderr",
     "output_type": "stream",
     "text": [
      "/Users/Murat/anaconda3/lib/python3.7/site-packages/ipykernel_launcher.py:1: SettingWithCopyWarning: \n",
      "A value is trying to be set on a copy of a slice from a DataFrame.\n",
      "Try using .loc[row_indexer,col_indexer] = value instead\n",
      "\n",
      "See the caveats in the documentation: http://pandas.pydata.org/pandas-docs/stable/indexing.html#indexing-view-versus-copy\n",
      "  \"\"\"Entry point for launching an IPython kernel.\n"
     ]
    },
    {
     "data": {
      "text/html": [
       "<div>\n",
       "<style scoped>\n",
       "    .dataframe tbody tr th:only-of-type {\n",
       "        vertical-align: middle;\n",
       "    }\n",
       "\n",
       "    .dataframe tbody tr th {\n",
       "        vertical-align: top;\n",
       "    }\n",
       "\n",
       "    .dataframe thead th {\n",
       "        text-align: right;\n",
       "    }\n",
       "</style>\n",
       "<table border=\"1\" class=\"dataframe\">\n",
       "  <thead>\n",
       "    <tr style=\"text-align: right;\">\n",
       "      <th></th>\n",
       "      <th>Confirmed</th>\n",
       "      <th>Date</th>\n",
       "      <th>Deaths</th>\n",
       "      <th>Recovered</th>\n",
       "      <th>log_Confirmed</th>\n",
       "      <th>Time</th>\n",
       "    </tr>\n",
       "  </thead>\n",
       "  <tbody>\n",
       "    <tr>\n",
       "      <th>0</th>\n",
       "      <td>1</td>\n",
       "      <td>2020-03-11</td>\n",
       "      <td>0</td>\n",
       "      <td>0</td>\n",
       "      <td>0.000000</td>\n",
       "      <td>0</td>\n",
       "    </tr>\n",
       "    <tr>\n",
       "      <th>1</th>\n",
       "      <td>1</td>\n",
       "      <td>2020-03-12</td>\n",
       "      <td>0</td>\n",
       "      <td>0</td>\n",
       "      <td>0.000000</td>\n",
       "      <td>1</td>\n",
       "    </tr>\n",
       "    <tr>\n",
       "      <th>2</th>\n",
       "      <td>5</td>\n",
       "      <td>2020-03-13</td>\n",
       "      <td>0</td>\n",
       "      <td>0</td>\n",
       "      <td>1.609438</td>\n",
       "      <td>2</td>\n",
       "    </tr>\n",
       "    <tr>\n",
       "      <th>3</th>\n",
       "      <td>5</td>\n",
       "      <td>2020-03-14</td>\n",
       "      <td>0</td>\n",
       "      <td>0</td>\n",
       "      <td>1.609438</td>\n",
       "      <td>3</td>\n",
       "    </tr>\n",
       "    <tr>\n",
       "      <th>4</th>\n",
       "      <td>6</td>\n",
       "      <td>2020-03-15</td>\n",
       "      <td>0</td>\n",
       "      <td>0</td>\n",
       "      <td>1.791759</td>\n",
       "      <td>4</td>\n",
       "    </tr>\n",
       "    <tr>\n",
       "      <th>5</th>\n",
       "      <td>18</td>\n",
       "      <td>2020-03-16</td>\n",
       "      <td>0</td>\n",
       "      <td>0</td>\n",
       "      <td>2.890372</td>\n",
       "      <td>5</td>\n",
       "    </tr>\n",
       "    <tr>\n",
       "      <th>6</th>\n",
       "      <td>47</td>\n",
       "      <td>2020-03-17</td>\n",
       "      <td>1</td>\n",
       "      <td>0</td>\n",
       "      <td>3.850148</td>\n",
       "      <td>6</td>\n",
       "    </tr>\n",
       "    <tr>\n",
       "      <th>7</th>\n",
       "      <td>98</td>\n",
       "      <td>2020-03-18</td>\n",
       "      <td>1</td>\n",
       "      <td>0</td>\n",
       "      <td>4.584967</td>\n",
       "      <td>7</td>\n",
       "    </tr>\n",
       "    <tr>\n",
       "      <th>8</th>\n",
       "      <td>192</td>\n",
       "      <td>2020-03-19</td>\n",
       "      <td>3</td>\n",
       "      <td>0</td>\n",
       "      <td>5.257495</td>\n",
       "      <td>8</td>\n",
       "    </tr>\n",
       "    <tr>\n",
       "      <th>9</th>\n",
       "      <td>359</td>\n",
       "      <td>2020-03-20</td>\n",
       "      <td>4</td>\n",
       "      <td>0</td>\n",
       "      <td>5.883322</td>\n",
       "      <td>9</td>\n",
       "    </tr>\n",
       "    <tr>\n",
       "      <th>10</th>\n",
       "      <td>670</td>\n",
       "      <td>2020-03-21</td>\n",
       "      <td>9</td>\n",
       "      <td>0</td>\n",
       "      <td>6.507278</td>\n",
       "      <td>10</td>\n",
       "    </tr>\n",
       "    <tr>\n",
       "      <th>11</th>\n",
       "      <td>1236</td>\n",
       "      <td>2020-03-22</td>\n",
       "      <td>30</td>\n",
       "      <td>0</td>\n",
       "      <td>7.119636</td>\n",
       "      <td>11</td>\n",
       "    </tr>\n",
       "    <tr>\n",
       "      <th>12</th>\n",
       "      <td>1529</td>\n",
       "      <td>2020-03-23</td>\n",
       "      <td>37</td>\n",
       "      <td>0</td>\n",
       "      <td>7.332369</td>\n",
       "      <td>12</td>\n",
       "    </tr>\n",
       "    <tr>\n",
       "      <th>13</th>\n",
       "      <td>1872</td>\n",
       "      <td>2020-03-24</td>\n",
       "      <td>44</td>\n",
       "      <td>0</td>\n",
       "      <td>7.534763</td>\n",
       "      <td>13</td>\n",
       "    </tr>\n",
       "    <tr>\n",
       "      <th>14</th>\n",
       "      <td>2433</td>\n",
       "      <td>2020-03-25</td>\n",
       "      <td>59</td>\n",
       "      <td>26</td>\n",
       "      <td>7.796880</td>\n",
       "      <td>14</td>\n",
       "    </tr>\n",
       "    <tr>\n",
       "      <th>15</th>\n",
       "      <td>3629</td>\n",
       "      <td>2020-03-26</td>\n",
       "      <td>75</td>\n",
       "      <td>26</td>\n",
       "      <td>8.196712</td>\n",
       "      <td>15</td>\n",
       "    </tr>\n",
       "    <tr>\n",
       "      <th>16</th>\n",
       "      <td>5698</td>\n",
       "      <td>2020-03-27</td>\n",
       "      <td>92</td>\n",
       "      <td>42</td>\n",
       "      <td>8.647871</td>\n",
       "      <td>16</td>\n",
       "    </tr>\n",
       "    <tr>\n",
       "      <th>17</th>\n",
       "      <td>7402</td>\n",
       "      <td>2020-03-28</td>\n",
       "      <td>108</td>\n",
       "      <td>70</td>\n",
       "      <td>8.909506</td>\n",
       "      <td>17</td>\n",
       "    </tr>\n",
       "    <tr>\n",
       "      <th>18</th>\n",
       "      <td>9217</td>\n",
       "      <td>2020-03-29</td>\n",
       "      <td>131</td>\n",
       "      <td>105</td>\n",
       "      <td>9.128805</td>\n",
       "      <td>18</td>\n",
       "    </tr>\n",
       "    <tr>\n",
       "      <th>19</th>\n",
       "      <td>10827</td>\n",
       "      <td>2020-03-30</td>\n",
       "      <td>168</td>\n",
       "      <td>162</td>\n",
       "      <td>9.289798</td>\n",
       "      <td>19</td>\n",
       "    </tr>\n",
       "    <tr>\n",
       "      <th>20</th>\n",
       "      <td>13531</td>\n",
       "      <td>2020-03-31</td>\n",
       "      <td>214</td>\n",
       "      <td>243</td>\n",
       "      <td>9.512739</td>\n",
       "      <td>20</td>\n",
       "    </tr>\n",
       "    <tr>\n",
       "      <th>21</th>\n",
       "      <td>15679</td>\n",
       "      <td>2020-04-01</td>\n",
       "      <td>277</td>\n",
       "      <td>333</td>\n",
       "      <td>9.660078</td>\n",
       "      <td>21</td>\n",
       "    </tr>\n",
       "    <tr>\n",
       "      <th>22</th>\n",
       "      <td>18135</td>\n",
       "      <td>2020-04-02</td>\n",
       "      <td>356</td>\n",
       "      <td>415</td>\n",
       "      <td>9.805599</td>\n",
       "      <td>22</td>\n",
       "    </tr>\n",
       "    <tr>\n",
       "      <th>23</th>\n",
       "      <td>20921</td>\n",
       "      <td>2020-04-03</td>\n",
       "      <td>425</td>\n",
       "      <td>484</td>\n",
       "      <td>9.948509</td>\n",
       "      <td>23</td>\n",
       "    </tr>\n",
       "  </tbody>\n",
       "</table>\n",
       "</div>"
      ],
      "text/plain": [
       "    Confirmed        Date  Deaths  Recovered  log_Confirmed  Time\n",
       "0           1  2020-03-11       0          0       0.000000     0\n",
       "1           1  2020-03-12       0          0       0.000000     1\n",
       "2           5  2020-03-13       0          0       1.609438     2\n",
       "3           5  2020-03-14       0          0       1.609438     3\n",
       "4           6  2020-03-15       0          0       1.791759     4\n",
       "5          18  2020-03-16       0          0       2.890372     5\n",
       "6          47  2020-03-17       1          0       3.850148     6\n",
       "7          98  2020-03-18       1          0       4.584967     7\n",
       "8         192  2020-03-19       3          0       5.257495     8\n",
       "9         359  2020-03-20       4          0       5.883322     9\n",
       "10        670  2020-03-21       9          0       6.507278    10\n",
       "11       1236  2020-03-22      30          0       7.119636    11\n",
       "12       1529  2020-03-23      37          0       7.332369    12\n",
       "13       1872  2020-03-24      44          0       7.534763    13\n",
       "14       2433  2020-03-25      59         26       7.796880    14\n",
       "15       3629  2020-03-26      75         26       8.196712    15\n",
       "16       5698  2020-03-27      92         42       8.647871    16\n",
       "17       7402  2020-03-28     108         70       8.909506    17\n",
       "18       9217  2020-03-29     131        105       9.128805    18\n",
       "19      10827  2020-03-30     168        162       9.289798    19\n",
       "20      13531  2020-03-31     214        243       9.512739    20\n",
       "21      15679  2020-04-01     277        333       9.660078    21\n",
       "22      18135  2020-04-02     356        415       9.805599    22\n",
       "23      20921  2020-04-03     425        484       9.948509    23"
      ]
     },
     "execution_count": 33,
     "metadata": {},
     "output_type": "execute_result"
    }
   ],
   "source": [
    "df['Time'] = X_values\n",
    "df"
   ]
  },
  {
   "cell_type": "code",
   "execution_count": 34,
   "metadata": {},
   "outputs": [
    {
     "name": "stderr",
     "output_type": "stream",
     "text": [
      "/Users/Murat/anaconda3/lib/python3.7/site-packages/ipykernel_launcher.py:1: SettingWithCopyWarning: \n",
      "A value is trying to be set on a copy of a slice from a DataFrame.\n",
      "Try using .loc[row_indexer,col_indexer] = value instead\n",
      "\n",
      "See the caveats in the documentation: http://pandas.pydata.org/pandas-docs/stable/indexing.html#indexing-view-versus-copy\n",
      "  \"\"\"Entry point for launching an IPython kernel.\n"
     ]
    },
    {
     "data": {
      "text/html": [
       "<div>\n",
       "<style scoped>\n",
       "    .dataframe tbody tr th:only-of-type {\n",
       "        vertical-align: middle;\n",
       "    }\n",
       "\n",
       "    .dataframe tbody tr th {\n",
       "        vertical-align: top;\n",
       "    }\n",
       "\n",
       "    .dataframe thead th {\n",
       "        text-align: right;\n",
       "    }\n",
       "</style>\n",
       "<table border=\"1\" class=\"dataframe\">\n",
       "  <thead>\n",
       "    <tr style=\"text-align: right;\">\n",
       "      <th></th>\n",
       "      <th>Confirmed</th>\n",
       "      <th>Date</th>\n",
       "      <th>Deaths</th>\n",
       "      <th>Recovered</th>\n",
       "      <th>log_Confirmed</th>\n",
       "      <th>Time</th>\n",
       "      <th>Confirmed_Predictions</th>\n",
       "    </tr>\n",
       "  </thead>\n",
       "  <tbody>\n",
       "    <tr>\n",
       "      <th>0</th>\n",
       "      <td>1</td>\n",
       "      <td>2020-03-11</td>\n",
       "      <td>0</td>\n",
       "      <td>0</td>\n",
       "      <td>0.000000</td>\n",
       "      <td>0</td>\n",
       "      <td>2.492003</td>\n",
       "    </tr>\n",
       "    <tr>\n",
       "      <th>1</th>\n",
       "      <td>1</td>\n",
       "      <td>2020-03-12</td>\n",
       "      <td>0</td>\n",
       "      <td>0</td>\n",
       "      <td>0.000000</td>\n",
       "      <td>1</td>\n",
       "      <td>3.918921</td>\n",
       "    </tr>\n",
       "    <tr>\n",
       "      <th>2</th>\n",
       "      <td>5</td>\n",
       "      <td>2020-03-13</td>\n",
       "      <td>0</td>\n",
       "      <td>0</td>\n",
       "      <td>1.609438</td>\n",
       "      <td>2</td>\n",
       "      <td>6.162892</td>\n",
       "    </tr>\n",
       "    <tr>\n",
       "      <th>3</th>\n",
       "      <td>5</td>\n",
       "      <td>2020-03-14</td>\n",
       "      <td>0</td>\n",
       "      <td>0</td>\n",
       "      <td>1.609438</td>\n",
       "      <td>3</td>\n",
       "      <td>9.691759</td>\n",
       "    </tr>\n",
       "    <tr>\n",
       "      <th>4</th>\n",
       "      <td>6</td>\n",
       "      <td>2020-03-15</td>\n",
       "      <td>0</td>\n",
       "      <td>0</td>\n",
       "      <td>1.791759</td>\n",
       "      <td>4</td>\n",
       "      <td>15.241250</td>\n",
       "    </tr>\n",
       "    <tr>\n",
       "      <th>5</th>\n",
       "      <td>18</td>\n",
       "      <td>2020-03-16</td>\n",
       "      <td>0</td>\n",
       "      <td>0</td>\n",
       "      <td>2.890372</td>\n",
       "      <td>5</td>\n",
       "      <td>23.968376</td>\n",
       "    </tr>\n",
       "    <tr>\n",
       "      <th>6</th>\n",
       "      <td>47</td>\n",
       "      <td>2020-03-17</td>\n",
       "      <td>1</td>\n",
       "      <td>0</td>\n",
       "      <td>3.850148</td>\n",
       "      <td>6</td>\n",
       "      <td>37.692646</td>\n",
       "    </tr>\n",
       "    <tr>\n",
       "      <th>7</th>\n",
       "      <td>98</td>\n",
       "      <td>2020-03-18</td>\n",
       "      <td>1</td>\n",
       "      <td>0</td>\n",
       "      <td>4.584967</td>\n",
       "      <td>7</td>\n",
       "      <td>59.275419</td>\n",
       "    </tr>\n",
       "    <tr>\n",
       "      <th>8</th>\n",
       "      <td>192</td>\n",
       "      <td>2020-03-19</td>\n",
       "      <td>3</td>\n",
       "      <td>0</td>\n",
       "      <td>5.257495</td>\n",
       "      <td>8</td>\n",
       "      <td>93.216469</td>\n",
       "    </tr>\n",
       "    <tr>\n",
       "      <th>9</th>\n",
       "      <td>359</td>\n",
       "      <td>2020-03-20</td>\n",
       "      <td>4</td>\n",
       "      <td>0</td>\n",
       "      <td>5.883322</td>\n",
       "      <td>9</td>\n",
       "      <td>146.592131</td>\n",
       "    </tr>\n",
       "    <tr>\n",
       "      <th>10</th>\n",
       "      <td>670</td>\n",
       "      <td>2020-03-21</td>\n",
       "      <td>9</td>\n",
       "      <td>0</td>\n",
       "      <td>6.507278</td>\n",
       "      <td>10</td>\n",
       "      <td>230.530648</td>\n",
       "    </tr>\n",
       "    <tr>\n",
       "      <th>11</th>\n",
       "      <td>1236</td>\n",
       "      <td>2020-03-22</td>\n",
       "      <td>30</td>\n",
       "      <td>0</td>\n",
       "      <td>7.119636</td>\n",
       "      <td>11</td>\n",
       "      <td>362.532281</td>\n",
       "    </tr>\n",
       "    <tr>\n",
       "      <th>12</th>\n",
       "      <td>1529</td>\n",
       "      <td>2020-03-23</td>\n",
       "      <td>37</td>\n",
       "      <td>0</td>\n",
       "      <td>7.332369</td>\n",
       "      <td>12</td>\n",
       "      <td>570.117925</td>\n",
       "    </tr>\n",
       "    <tr>\n",
       "      <th>13</th>\n",
       "      <td>1872</td>\n",
       "      <td>2020-03-24</td>\n",
       "      <td>44</td>\n",
       "      <td>0</td>\n",
       "      <td>7.534763</td>\n",
       "      <td>13</td>\n",
       "      <td>896.566915</td>\n",
       "    </tr>\n",
       "    <tr>\n",
       "      <th>14</th>\n",
       "      <td>2433</td>\n",
       "      <td>2020-03-25</td>\n",
       "      <td>59</td>\n",
       "      <td>26</td>\n",
       "      <td>7.796880</td>\n",
       "      <td>14</td>\n",
       "      <td>1409.940290</td>\n",
       "    </tr>\n",
       "    <tr>\n",
       "      <th>15</th>\n",
       "      <td>3629</td>\n",
       "      <td>2020-03-26</td>\n",
       "      <td>75</td>\n",
       "      <td>26</td>\n",
       "      <td>8.196712</td>\n",
       "      <td>15</td>\n",
       "      <td>2217.270778</td>\n",
       "    </tr>\n",
       "    <tr>\n",
       "      <th>16</th>\n",
       "      <td>5698</td>\n",
       "      <td>2020-03-27</td>\n",
       "      <td>92</td>\n",
       "      <td>42</td>\n",
       "      <td>8.647871</td>\n",
       "      <td>16</td>\n",
       "      <td>3486.877946</td>\n",
       "    </tr>\n",
       "    <tr>\n",
       "      <th>17</th>\n",
       "      <td>7402</td>\n",
       "      <td>2020-03-28</td>\n",
       "      <td>108</td>\n",
       "      <td>70</td>\n",
       "      <td>8.909506</td>\n",
       "      <td>17</td>\n",
       "      <td>5483.460989</td>\n",
       "    </tr>\n",
       "    <tr>\n",
       "      <th>18</th>\n",
       "      <td>9217</td>\n",
       "      <td>2020-03-29</td>\n",
       "      <td>131</td>\n",
       "      <td>105</td>\n",
       "      <td>9.128805</td>\n",
       "      <td>18</td>\n",
       "      <td>8623.285610</td>\n",
       "    </tr>\n",
       "    <tr>\n",
       "      <th>19</th>\n",
       "      <td>10827</td>\n",
       "      <td>2020-03-30</td>\n",
       "      <td>168</td>\n",
       "      <td>162</td>\n",
       "      <td>9.289798</td>\n",
       "      <td>19</td>\n",
       "      <td>13560.970865</td>\n",
       "    </tr>\n",
       "    <tr>\n",
       "      <th>20</th>\n",
       "      <td>13531</td>\n",
       "      <td>2020-03-31</td>\n",
       "      <td>214</td>\n",
       "      <td>243</td>\n",
       "      <td>9.512739</td>\n",
       "      <td>20</td>\n",
       "      <td>21325.970068</td>\n",
       "    </tr>\n",
       "    <tr>\n",
       "      <th>21</th>\n",
       "      <td>15679</td>\n",
       "      <td>2020-04-01</td>\n",
       "      <td>277</td>\n",
       "      <td>333</td>\n",
       "      <td>9.660078</td>\n",
       "      <td>21</td>\n",
       "      <td>33537.200533</td>\n",
       "    </tr>\n",
       "    <tr>\n",
       "      <th>22</th>\n",
       "      <td>18135</td>\n",
       "      <td>2020-04-02</td>\n",
       "      <td>356</td>\n",
       "      <td>415</td>\n",
       "      <td>9.805599</td>\n",
       "      <td>22</td>\n",
       "      <td>52740.570114</td>\n",
       "    </tr>\n",
       "    <tr>\n",
       "      <th>23</th>\n",
       "      <td>20921</td>\n",
       "      <td>2020-04-03</td>\n",
       "      <td>425</td>\n",
       "      <td>484</td>\n",
       "      <td>9.948509</td>\n",
       "      <td>23</td>\n",
       "      <td>82939.771111</td>\n",
       "    </tr>\n",
       "  </tbody>\n",
       "</table>\n",
       "</div>"
      ],
      "text/plain": [
       "    Confirmed        Date  Deaths  Recovered  log_Confirmed  Time  \\\n",
       "0           1  2020-03-11       0          0       0.000000     0   \n",
       "1           1  2020-03-12       0          0       0.000000     1   \n",
       "2           5  2020-03-13       0          0       1.609438     2   \n",
       "3           5  2020-03-14       0          0       1.609438     3   \n",
       "4           6  2020-03-15       0          0       1.791759     4   \n",
       "5          18  2020-03-16       0          0       2.890372     5   \n",
       "6          47  2020-03-17       1          0       3.850148     6   \n",
       "7          98  2020-03-18       1          0       4.584967     7   \n",
       "8         192  2020-03-19       3          0       5.257495     8   \n",
       "9         359  2020-03-20       4          0       5.883322     9   \n",
       "10        670  2020-03-21       9          0       6.507278    10   \n",
       "11       1236  2020-03-22      30          0       7.119636    11   \n",
       "12       1529  2020-03-23      37          0       7.332369    12   \n",
       "13       1872  2020-03-24      44          0       7.534763    13   \n",
       "14       2433  2020-03-25      59         26       7.796880    14   \n",
       "15       3629  2020-03-26      75         26       8.196712    15   \n",
       "16       5698  2020-03-27      92         42       8.647871    16   \n",
       "17       7402  2020-03-28     108         70       8.909506    17   \n",
       "18       9217  2020-03-29     131        105       9.128805    18   \n",
       "19      10827  2020-03-30     168        162       9.289798    19   \n",
       "20      13531  2020-03-31     214        243       9.512739    20   \n",
       "21      15679  2020-04-01     277        333       9.660078    21   \n",
       "22      18135  2020-04-02     356        415       9.805599    22   \n",
       "23      20921  2020-04-03     425        484       9.948509    23   \n",
       "\n",
       "    Confirmed_Predictions  \n",
       "0                2.492003  \n",
       "1                3.918921  \n",
       "2                6.162892  \n",
       "3                9.691759  \n",
       "4               15.241250  \n",
       "5               23.968376  \n",
       "6               37.692646  \n",
       "7               59.275419  \n",
       "8               93.216469  \n",
       "9              146.592131  \n",
       "10             230.530648  \n",
       "11             362.532281  \n",
       "12             570.117925  \n",
       "13             896.566915  \n",
       "14            1409.940290  \n",
       "15            2217.270778  \n",
       "16            3486.877946  \n",
       "17            5483.460989  \n",
       "18            8623.285610  \n",
       "19           13560.970865  \n",
       "20           21325.970068  \n",
       "21           33537.200533  \n",
       "22           52740.570114  \n",
       "23           82939.771111  "
      ]
     },
     "execution_count": 34,
     "metadata": {},
     "output_type": "execute_result"
    }
   ],
   "source": [
    "df['Confirmed_Predictions'] = df.Time.apply(linear_predictions)\n",
    "df"
   ]
  },
  {
   "cell_type": "code",
   "execution_count": 35,
   "metadata": {},
   "outputs": [
    {
     "data": {
      "text/plain": [
       "[]"
      ]
     },
     "execution_count": 35,
     "metadata": {},
     "output_type": "execute_result"
    },
    {
     "data": {
      "image/png": "[encoded data removed]",
      "text/plain": [
       "<Figure size 3600x720 with 1 Axes>"
      ]
     },
     "metadata": {
      "needs_background": "light"
     },
     "output_type": "display_data"
    }
   ],
   "source": [
    "# Plot\n",
    "plt.plot(df.Date, df.Confirmed_Predictions, 'blue')\n",
    "plt.plot(df.Date, df.Confirmed, 'red')\n",
    "rcParams['figure.figsize'] = 25, 10\n",
    "plt.title('Günlük Vaka Sayısı')\n",
    "plt.ylabel('Vaka Sayısı')\n",
    "plt.yscale('log')\n",
    "plt.xlabel('Günler')\n",
    "\n",
    "positions = turkey_df_new_starting['Date']\n",
    "labels = turkey_df_new_starting['Date']\n",
    "plt.xticks(positions, labels,rotation=90)\n",
    "\n",
    "plt.yticks((0,1,10,100,1000,10000,100000), (0,1,10,100,1000,10000,100000))\n",
    "\n",
    "plt.plot()"
   ]
  },
  {
   "cell_type": "markdown",
   "metadata": {},
   "source": []
  },
  {
   "cell_type": "code",
   "execution_count": null,
   "metadata": {},
   "outputs": [],
   "source": []
  }
 ],
 "metadata": {
  "kernelspec": {
   "display_name": "Python 3",
   "language": "python",
   "name": "python3"
  },
  "language_info": {
   "codemirror_mode": {
    "name": "ipython",
    "version": 3
   },
   "file_extension": ".py",
   "mimetype": "text/x-python",
   "name": "python",
   "nbconvert_exporter": "python",
   "pygments_lexer": "ipython3",
   "version": "3.7.3"
  }
 },
 "nbformat": 4,
 "nbformat_minor": 2
}
